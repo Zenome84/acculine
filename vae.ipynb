{
 "cells": [
  {
   "cell_type": "code",
   "execution_count": 1,
   "metadata": {},
   "outputs": [],
   "source": [
    "import wfdb\n",
    "import matplotlib.pyplot as plt\n",
    "import os\n",
    "from scipy import signal\n",
    "import numpy as np\n",
    "import tensorflow as tf\n",
    "import pandas as pd"
   ]
  },
  {
   "cell_type": "code",
   "execution_count": 2,
   "metadata": {},
   "outputs": [],
   "source": [
    "def rollingWindow(a, window):\n",
    "    shape = a.shape[:-1] + (a.shape[-1] - window + 1, window)\n",
    "    strides = a.strides + (a.strides[-1],)\n",
    "    return np.lib.stride_tricks.as_strided(a, shape=shape, strides=strides)"
   ]
  },
  {
   "cell_type": "code",
   "execution_count": 3,
   "metadata": {},
   "outputs": [],
   "source": [
    "MIN_BPM = 30\n",
    "MIN_FREQ = 300  # from inspection of '.hea' content\n",
    "SAMPLE_WINDOW = int(60 / MIN_BPM * MIN_FREQ)\n",
    "FIRST_WINDOW = int(SAMPLE_WINDOW / 2)  # avoid artifacts in the beginning of signal"
   ]
  },
  {
   "cell_type": "code",
   "execution_count": 4,
   "metadata": {},
   "outputs": [],
   "source": [
    "t17 = pd.read_csv('./data/training2017/REFERENCE.csv', names=['id', 'type'])\n",
    "t17['fname'] = './data/training2017/' + t17.id\n",
    "t17['noisy'] = t17.type == '~'\n",
    "\n",
    "saa = pd.read_csv('./data/set-a/RECORDS-acceptable', names=['id'])\n",
    "saa['fname'] = './data/set-a/' + saa.id.astype(str)\n",
    "saa['noisy'] = False\n",
    "sau = pd.read_csv('./data/set-a/RECORDS-unacceptable', names=['id'])\n",
    "sau['fname'] = './data/set-a/' + sau.id.astype(str)\n",
    "sau['noisy'] = True\n",
    "sa = pd.concat([saa, sau])\n",
    "\n",
    "val = pd.read_csv('./data/validation/REFERENCE.csv', names=['id', 'type'])\n",
    "val['fname'] = './data/validation/' + val.id\n",
    "val['noisy'] = val.type == '~'"
   ]
  },
  {
   "cell_type": "code",
   "execution_count": 5,
   "metadata": {},
   "outputs": [],
   "source": [
    "train_validate_noisy = []\n",
    "train_validate_clean = []\n",
    "\n",
    "for idx, row in t17.iterrows():\n",
    "    data, info = wfdb.rdsamp(row['fname'])\n",
    "    for sgnl in data.T:\n",
    "        sgnl_wnd = rollingWindow(sgnl[FIRST_WINDOW:], SAMPLE_WINDOW)\n",
    "        sgnl_picks = np.random.randint(0, sgnl_wnd.shape[0], [int(sgnl_wnd.shape[0] / SAMPLE_WINDOW * 0.5)])\n",
    "        if row['noisy']:\n",
    "            train_validate_noisy.append(sgnl_wnd[sgnl_picks])\n",
    "        else:\n",
    "            train_validate_clean.append(sgnl_wnd[sgnl_picks])\n",
    "for idx, row in sa.iterrows():\n",
    "    data, info = wfdb.rdsamp(row['fname'])\n",
    "    for sgnl in data.T:\n",
    "        sgnl_ds = signal.resample(sgnl, int(len(sgnl) / info['fs'] * MIN_FREQ))\n",
    "        sgnl_wnd = rollingWindow(sgnl_ds[FIRST_WINDOW:], SAMPLE_WINDOW)\n",
    "        sgnl_picks = np.random.randint(0, sgnl_wnd.shape[0], [int(sgnl_wnd.shape[0] / SAMPLE_WINDOW * 0.5)])\n",
    "        if row['noisy']:\n",
    "            train_validate_noisy.append(sgnl_wnd[sgnl_picks])\n",
    "        else:\n",
    "            train_validate_clean.append(sgnl_wnd[sgnl_picks])\n",
    "train_validate_noisy = np.concatenate(train_validate_noisy, 0)\n",
    "train_validate_clean = np.concatenate(train_validate_clean, 0)\n",
    "\n",
    "test_noisy = []\n",
    "test_clean = []\n",
    "for idx, row in val.iterrows():\n",
    "    data, info = wfdb.rdsamp(row['fname'])\n",
    "    for sgnl in data.T:\n",
    "        sgnl_wnd = rollingWindow(sgnl[FIRST_WINDOW:], SAMPLE_WINDOW)\n",
    "        sgnl_picks = np.random.randint(0, sgnl_wnd.shape[0], [int(sgnl_wnd.shape[0] / SAMPLE_WINDOW * 0.5)])\n",
    "        if row['noisy']:\n",
    "            test_noisy.append(sgnl_wnd[sgnl_picks])\n",
    "        else:\n",
    "            test_clean.append(sgnl_wnd[sgnl_picks])\n",
    "test_noisy = np.concatenate(test_noisy, 0)\n",
    "test_clean = np.concatenate(test_clean, 0)"
   ]
  },
  {
   "cell_type": "code",
   "execution_count": 6,
   "metadata": {},
   "outputs": [],
   "source": [
    "latent_dim = 2\n",
    "inner_dim = 32\n",
    "\n",
    "def sampling(args):\n",
    "    z_mean, z_log_sigma = args\n",
    "    batch_size = tf.shape(z_mean)[0]\n",
    "    epsilon = tf.random.normal(shape=(batch_size, latent_dim), mean=0., stddev=1.)\n",
    "    return z_mean + z_log_sigma * epsilon\n",
    "\n",
    "# Encoder\n",
    "input_x = tf.keras.layers.Input(shape= (SAMPLE_WINDOW, 1)) \n",
    "h = tf.keras.layers.LSTM(inner_dim)(input_x)  #, activation='relu'\n",
    "\n",
    "# Z\n",
    "z_mean = tf.keras.layers.Dense(latent_dim)(h)\n",
    "z_log_sigma = tf.keras.layers.Dense(latent_dim)(h)\n",
    "z = tf.keras.layers.Lambda(sampling)([z_mean, z_log_sigma])\n",
    "\n",
    "# Decoder\n",
    "decoder = tf.keras.layers.RepeatVector(SAMPLE_WINDOW)(z)\n",
    "decoder = tf.keras.layers.LSTM(inner_dim, return_sequences=True)(decoder)  #, activation='relu'\n",
    "decoder = tf.keras.layers.TimeDistributed(tf.keras.layers.Dense(1))(decoder)\n",
    "\n",
    "def vae_loss(input_x, decoder, z_log_sigma, z_mean):\n",
    "    \"\"\" Calculate loss = reconstruction loss + KL loss for each data in minibatch \"\"\"\n",
    "    # E[log P(X|z)]\n",
    "    recon = tf.reduce_mean(tf.keras.metrics.binary_crossentropy(input_x, decoder))\n",
    "    # D_KL(Q(z|X) || P(z|X)); calculate in closed form as both dist. are Gaussian\n",
    "    kl = 0.5 * tf.reduce_mean(tf.minimum(1e6, tf.exp(z_log_sigma)) + tf.square(z_mean) - 1. - z_log_sigma)\n",
    "\n",
    "    return recon + kl\n",
    "\n",
    "model = tf.keras.Model(input_x, decoder)\n",
    "model.add_loss(vae_loss(input_x, decoder, z_log_sigma, z_mean))\n",
    "model.compile(loss=None, optimizer=tf.keras.optimizers.Adam(learning_rate=0.00001))"
   ]
  },
  {
   "cell_type": "code",
   "execution_count": 7,
   "metadata": {},
   "outputs": [],
   "source": [
    "trainX = train_validate_clean[..., np.newaxis].astype(np.float32)"
   ]
  },
  {
   "cell_type": "code",
   "execution_count": 8,
   "metadata": {},
   "outputs": [],
   "source": [
    "BATCH_SIZE = 512\n",
    "SHUFFLE_SIZE = BATCH_SIZE * 4\n",
    "\n",
    "train_dataset = tf.data.Dataset.from_tensor_slices(trainX).shuffle(SHUFFLE_SIZE).batch(BATCH_SIZE)"
   ]
  },
  {
   "cell_type": "code",
   "execution_count": 9,
   "metadata": {},
   "outputs": [
    {
     "name": "stdout",
     "output_type": "stream",
     "text": [
      "Epoch 1/25\n",
      "128/128 [==============================] - ETA: 0s - loss: -0.0950\n",
      "Epoch 1: saving model to ./mydata/vae\\0001.ckpt\n",
      "128/128 [==============================] - 10s 55ms/step - loss: -0.0950\n",
      "Epoch 2/25\n",
      "127/128 [============================>.] - ETA: 0s - loss: -0.0752\n",
      "Epoch 2: saving model to ./mydata/vae\\0002.ckpt\n",
      "128/128 [==============================] - 7s 55ms/step - loss: -0.1111\n",
      "Epoch 3/25\n",
      "127/128 [============================>.] - ETA: 0s - loss: -0.1077\n",
      "Epoch 3: saving model to ./mydata/vae\\0003.ckpt\n",
      "128/128 [==============================] - 7s 54ms/step - loss: -0.1065\n",
      "Epoch 4/25\n",
      "127/128 [============================>.] - ETA: 0s - loss: -0.0662\n",
      "Epoch 4: saving model to ./mydata/vae\\0004.ckpt\n",
      "128/128 [==============================] - 7s 54ms/step - loss: -0.0660\n",
      "Epoch 5/25\n",
      "127/128 [============================>.] - ETA: 0s - loss: -0.0622\n",
      "Epoch 5: saving model to ./mydata/vae\\0005.ckpt\n",
      "128/128 [==============================] - 7s 54ms/step - loss: -0.0989\n",
      "Epoch 6/25\n",
      "127/128 [============================>.] - ETA: 0s - loss: -0.0811\n",
      "Epoch 6: saving model to ./mydata/vae\\0006.ckpt\n",
      "128/128 [==============================] - 7s 54ms/step - loss: -0.1170\n",
      "Epoch 7/25\n",
      "127/128 [============================>.] - ETA: 0s - loss: -0.0929\n",
      "Epoch 7: saving model to ./mydata/vae\\0007.ckpt\n",
      "128/128 [==============================] - 7s 54ms/step - loss: -0.1287\n",
      "Epoch 8/25\n",
      "127/128 [============================>.] - ETA: 0s - loss: -0.1007\n",
      "Epoch 8: saving model to ./mydata/vae\\0008.ckpt\n",
      "128/128 [==============================] - 7s 54ms/step - loss: -0.0998\n",
      "Epoch 9/25\n",
      "127/128 [============================>.] - ETA: 0s - loss: -0.0622\n",
      "Epoch 9: saving model to ./mydata/vae\\0009.ckpt\n",
      "128/128 [==============================] - 7s 54ms/step - loss: -0.0984\n",
      "Epoch 10/25\n",
      "127/128 [============================>.] - ETA: 0s - loss: -0.1032\n",
      "Epoch 10: saving model to ./mydata/vae\\0010.ckpt\n",
      "128/128 [==============================] - 7s 55ms/step - loss: -0.1020\n",
      "Epoch 11/25\n",
      "127/128 [============================>.] - ETA: 0s - loss: -0.0773\n",
      "Epoch 11: saving model to ./mydata/vae\\0011.ckpt\n",
      "128/128 [==============================] - 7s 56ms/step - loss: -0.1132\n",
      "Epoch 12/25\n",
      "127/128 [============================>.] - ETA: 0s - loss: -0.1038\n",
      "Epoch 12: saving model to ./mydata/vae\\0012.ckpt\n",
      "128/128 [==============================] - 7s 56ms/step - loss: -0.1028\n",
      "Epoch 13/25\n",
      "127/128 [============================>.] - ETA: 0s - loss: -0.0994\n",
      "Epoch 13: saving model to ./mydata/vae\\0013.ckpt\n",
      "128/128 [==============================] - 7s 57ms/step - loss: -0.1280\n",
      "Epoch 14/25\n",
      "127/128 [============================>.] - ETA: 0s - loss: -0.0854\n",
      "Epoch 14: saving model to ./mydata/vae\\0014.ckpt\n",
      "128/128 [==============================] - 7s 54ms/step - loss: -0.0875\n",
      "Epoch 15/25\n",
      "127/128 [============================>.] - ETA: 0s - loss: -0.1041\n",
      "Epoch 15: saving model to ./mydata/vae\\0015.ckpt\n",
      "128/128 [==============================] - 7s 55ms/step - loss: -0.1038\n",
      "Epoch 16/25\n",
      "127/128 [============================>.] - ETA: 0s - loss: -0.0966\n",
      "Epoch 16: saving model to ./mydata/vae\\0016.ckpt\n",
      "128/128 [==============================] - 8s 59ms/step - loss: -0.1051\n",
      "Epoch 17/25\n",
      "128/128 [==============================] - ETA: 0s - loss: -0.1218\n",
      "Epoch 17: saving model to ./mydata/vae\\0017.ckpt\n",
      "128/128 [==============================] - 7s 58ms/step - loss: -0.1218\n",
      "Epoch 18/25\n",
      "127/128 [============================>.] - ETA: 0s - loss: -0.1041\n",
      "Epoch 18: saving model to ./mydata/vae\\0018.ckpt\n",
      "128/128 [==============================] - 7s 56ms/step - loss: -0.1271\n",
      "Epoch 19/25\n",
      "127/128 [============================>.] - ETA: 0s - loss: -0.1170\n",
      "Epoch 19: saving model to ./mydata/vae\\0019.ckpt\n",
      "128/128 [==============================] - 7s 56ms/step - loss: -0.1158\n",
      "Epoch 20/25\n",
      "127/128 [============================>.] - ETA: 0s - loss: -0.0720\n",
      "Epoch 20: saving model to ./mydata/vae\\0020.ckpt\n",
      "128/128 [==============================] - 7s 55ms/step - loss: -0.1074\n",
      "Epoch 21/25\n",
      "127/128 [============================>.] - ETA: 0s - loss: -0.0989\n",
      "Epoch 21: saving model to ./mydata/vae\\0021.ckpt\n",
      "128/128 [==============================] - 7s 55ms/step - loss: -0.1348\n",
      "Epoch 22/25\n",
      "127/128 [============================>.] - ETA: 0s - loss: -0.1170\n",
      "Epoch 22: saving model to ./mydata/vae\\0022.ckpt\n",
      "128/128 [==============================] - 7s 55ms/step - loss: -0.1158\n",
      "Epoch 23/25\n",
      "127/128 [============================>.] - ETA: 0s - loss: -0.1084\n",
      "Epoch 23: saving model to ./mydata/vae\\0023.ckpt\n",
      "128/128 [==============================] - 7s 55ms/step - loss: -0.1072\n",
      "Epoch 24/25\n",
      "127/128 [============================>.] - ETA: 0s - loss: -0.1182\n",
      "Epoch 24: saving model to ./mydata/vae\\0024.ckpt\n",
      "128/128 [==============================] - 7s 55ms/step - loss: -0.1171\n",
      "Epoch 25/25\n",
      "127/128 [============================>.] - ETA: 0s - loss: -0.0984\n",
      "Epoch 25: saving model to ./mydata/vae\\0025.ckpt\n",
      "128/128 [==============================] - 8s 64ms/step - loss: -0.1349\n"
     ]
    }
   ],
   "source": [
    "checkpoint_path = './mydata/vae/' + '{epoch:04d}.ckpt'\n",
    "checkpoint_dir = os.path.dirname(checkpoint_path)\n",
    "cp_callback = tf.keras.callbacks.ModelCheckpoint(filepath=checkpoint_path,\n",
    "                                                 save_weights_only=True,\n",
    "                                                 verbose=1)\n",
    "\n",
    "history = model.fit(\n",
    "    train_dataset,\n",
    "    epochs=25,\n",
    "    callbacks=[cp_callback])"
   ]
  },
  {
   "cell_type": "code",
   "execution_count": 10,
   "metadata": {},
   "outputs": [
    {
     "name": "stdout",
     "output_type": "stream",
     "text": [
      "2041/2041 [==============================] - 84s 41ms/step\n"
     ]
    }
   ],
   "source": [
    "pred_clean = model.predict(train_validate_clean[..., np.newaxis].astype(np.float32))"
   ]
  },
  {
   "cell_type": "code",
   "execution_count": 11,
   "metadata": {},
   "outputs": [
    {
     "name": "stdout",
     "output_type": "stream",
     "text": [
      "127/127 [==============================] - 3s 21ms/step\n"
     ]
    }
   ],
   "source": [
    "pred_noisy = model.predict(train_validate_noisy[..., np.newaxis].astype(np.float32))"
   ]
  },
  {
   "cell_type": "code",
   "execution_count": 12,
   "metadata": {},
   "outputs": [
    {
     "data": {
      "text/plain": [
       "<matplotlib.legend.Legend at 0x19c007b3610>"
      ]
     },
     "execution_count": 12,
     "metadata": {},
     "output_type": "execute_result"
    },
    {
     "data": {
      "image/png": "[encoded data removed]",
      "text/plain": [
       "<Figure size 640x480 with 1 Axes>"
      ]
     },
     "metadata": {},
     "output_type": "display_data"
    }
   ],
   "source": [
    "noisy_scores = np.square(train_validate_noisy[..., np.newaxis] - pred_noisy).mean(1)\n",
    "clean_scores = np.square(train_validate_clean[..., np.newaxis] - pred_clean).mean(1)\n",
    "\n",
    "noisy_scores[noisy_scores > 0.2] = 0.2\n",
    "clean_scores[clean_scores > 0.2] = 0.2\n",
    "\n",
    "hn = plt.hist(noisy_scores, bins=100, density=True, histtype='step', label='noisy')\n",
    "hc = plt.hist(clean_scores, bins=100, density=True, histtype='step', label='clean')\n",
    "plt.legend()"
   ]
  },
  {
   "cell_type": "code",
   "execution_count": 13,
   "metadata": {},
   "outputs": [
    {
     "name": "stdout",
     "output_type": "stream",
     "text": [
      "Noisy: 44.5 %\n",
      "Clean: 94.2 %\n"
     ]
    }
   ],
   "source": [
    "print(f\"Noisy: {(np.square(train_validate_noisy[..., np.newaxis] - pred_noisy).mean(1) > 0.1).mean()*100:0.1f} %\")\n",
    "print(f\"Clean: {(np.square(train_validate_clean[..., np.newaxis] - pred_clean).mean(1) < 0.1).mean()*100:0.1f} %\")"
   ]
  },
  {
   "cell_type": "markdown",
   "metadata": {},
   "source": [
    "The above results demonstrate that the VAE:\n",
    "1. Classifies 44.5 % of the subsignals in the noisy signals as anomalous or 'noisy'\n",
    "2. Classifies 94.2% of the subsignals in the clean signals as clean\n",
    "\n",
    "These results are comparable to the classifier in [ecgV1.ipynb](./ecgV1.ipynb), but I have not done much fine-tuning to this model yet.\n",
    "\n",
    "It looks promising given that it has only been trained on the clean signals, which could also contain noisy segments. And vice-versa, the noisy signals could contain valid, clean subsignals.\n",
    "\n",
    "A use of the VAE can be seen in [noisySegmentsVAE.ipynb](./noisySegmentsVAE.ipynb)"
   ]
  }
 ],
 "metadata": {
  "kernelspec": {
   "display_name": "Python 3",
   "language": "python",
   "name": "python3"
  },
  "language_info": {
   "codemirror_mode": {
    "name": "ipython",
    "version": 3
   },
   "file_extension": ".py",
   "mimetype": "text/x-python",
   "name": "python",
   "nbconvert_exporter": "python",
   "pygments_lexer": "ipython3",
   "version": "3.8.5"
  }
 },
 "nbformat": 4,
 "nbformat_minor": 2
}
