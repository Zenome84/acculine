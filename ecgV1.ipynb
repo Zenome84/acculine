{
 "cells": [
  {
   "cell_type": "code",
   "execution_count": 1,
   "metadata": {},
   "outputs": [],
   "source": [
    "import wfdb\n",
    "import matplotlib.pyplot as plt\n",
    "from scipy import signal\n",
    "import os\n",
    "import numpy as np\n",
    "import pandas as pd\n",
    "import tensorflow as tf\n",
    "from sklearn import metrics"
   ]
  },
  {
   "cell_type": "code",
   "execution_count": 2,
   "metadata": {},
   "outputs": [],
   "source": [
    "def rollingWindow(a, window):\n",
    "    shape = a.shape[:-1] + (a.shape[-1] - window + 1, window)\n",
    "    strides = a.strides + (a.strides[-1],)\n",
    "    return np.lib.stride_tricks.as_strided(a, shape=shape, strides=strides)"
   ]
  },
  {
   "cell_type": "code",
   "execution_count": 3,
   "metadata": {},
   "outputs": [],
   "source": [
    "MIN_BPM = 30\n",
    "MIN_FREQ = 300  # from inspection of '.hea' content\n",
    "SAMPLE_WINDOW = int(60 / MIN_BPM * MIN_FREQ)\n",
    "FIRST_WINDOW = int(SAMPLE_WINDOW / 2)  # avoid artifacts in the beginning of signal"
   ]
  },
  {
   "cell_type": "code",
   "execution_count": 4,
   "metadata": {},
   "outputs": [],
   "source": [
    "t17 = pd.read_csv('./data/training2017/REFERENCE.csv', names=['id', 'type'])\n",
    "t17['fname'] = './data/training2017/' + t17.id\n",
    "t17['noisy'] = t17.type == '~'\n",
    "\n",
    "saa = pd.read_csv('./data/set-a/RECORDS-acceptable', names=['id'])\n",
    "saa['fname'] = './data/set-a/' + saa.id.astype(str)\n",
    "saa['noisy'] = False\n",
    "sau = pd.read_csv('./data/set-a/RECORDS-unacceptable', names=['id'])\n",
    "sau['fname'] = './data/set-a/' + sau.id.astype(str)\n",
    "sau['noisy'] = True\n",
    "sa = pd.concat([saa, sau])\n",
    "\n",
    "val = pd.read_csv('./data/validation/REFERENCE.csv', names=['id', 'type'])\n",
    "val['fname'] = './data/validation/' + val.id\n",
    "val['noisy'] = val.type == '~'"
   ]
  },
  {
   "cell_type": "markdown",
   "metadata": {},
   "source": [
    "Below I preprocess the signals by collecting subset windows at random locations from each original window.\n",
    "\n",
    "Additionally, regarding 'set-a' from CINC 2011, I subsampled the signal from 500 Hz to 300 Hz, and I used all 12 ECG signals as independent signals. Here, the assumption that if the signal is not marked noisy, then most of all 12 signals are not noisy, and if a signal is marked noisy, than all 12 signals are noisy."
   ]
  },
  {
   "cell_type": "code",
   "execution_count": 5,
   "metadata": {},
   "outputs": [],
   "source": [
    "train_validate_noisy = []\n",
    "train_validate_clean = []\n",
    "\n",
    "for idx, row in t17.iterrows():\n",
    "    data, info = wfdb.rdsamp(row['fname'])\n",
    "    for sgnl in data.T:\n",
    "        sgnl_wnd = rollingWindow(sgnl[FIRST_WINDOW:], SAMPLE_WINDOW)\n",
    "        sgnl_picks = np.random.randint(0, sgnl_wnd.shape[0], [int(sgnl_wnd.shape[0] / SAMPLE_WINDOW * 3)])\n",
    "        if row['noisy']:\n",
    "            train_validate_noisy.append(sgnl_wnd[sgnl_picks])\n",
    "        else:\n",
    "            train_validate_clean.append(sgnl_wnd[sgnl_picks])\n",
    "for idx, row in sa.iterrows():\n",
    "    data, info = wfdb.rdsamp(row['fname'])\n",
    "    for sgnl in data.T:\n",
    "        sgnl_ds = signal.resample(sgnl, int(len(sgnl) / info['fs'] * MIN_FREQ))\n",
    "        sgnl_wnd = rollingWindow(sgnl_ds[FIRST_WINDOW:], SAMPLE_WINDOW)\n",
    "        sgnl_picks = np.random.randint(0, sgnl_wnd.shape[0], [int(sgnl_wnd.shape[0] / SAMPLE_WINDOW * 3)])\n",
    "        if row['noisy']:\n",
    "            train_validate_noisy.append(sgnl_wnd[sgnl_picks])\n",
    "        else:\n",
    "            train_validate_clean.append(sgnl_wnd[sgnl_picks])\n",
    "train_validate_noisy = np.concatenate(train_validate_noisy, 0)\n",
    "train_validate_clean = np.concatenate(train_validate_clean, 0)\n",
    "\n",
    "test_noisy = []\n",
    "test_clean = []\n",
    "for idx, row in val.iterrows():\n",
    "    data, info = wfdb.rdsamp(row['fname'])\n",
    "    for sgnl in data.T:\n",
    "        sgnl_wnd = rollingWindow(sgnl[FIRST_WINDOW:], SAMPLE_WINDOW)\n",
    "        sgnl_picks = np.random.randint(0, sgnl_wnd.shape[0], [int(sgnl_wnd.shape[0] / SAMPLE_WINDOW * 3)])\n",
    "        if row['noisy']:\n",
    "            test_noisy.append(sgnl_wnd[sgnl_picks])\n",
    "        else:\n",
    "            test_clean.append(sgnl_wnd[sgnl_picks])\n",
    "test_noisy = np.concatenate(test_noisy, 0)\n",
    "test_clean = np.concatenate(test_clean, 0)"
   ]
  },
  {
   "cell_type": "markdown",
   "metadata": {},
   "source": [
    "Below I create the training/validation sets. In particular, I oversample from the noisy signals based on the ratio of noisy/clean signals for purpose of reducing bias."
   ]
  },
  {
   "cell_type": "code",
   "execution_count": 6,
   "metadata": {},
   "outputs": [],
   "source": [
    "lenClean = train_validate_clean.shape[0]\n",
    "lenNoisy = train_validate_noisy.shape[0]\n",
    "\n",
    "trainXc, valXc = train_validate_clean[:int(0.85 * lenClean)], train_validate_clean[int(0.85 * lenClean):]\n",
    "trainYc, valYc = np.zeros([trainXc.shape[0], 1]), np.zeros([valXc.shape[0], 1])\n",
    "\n",
    "trainXn = np.repeat(train_validate_noisy[:int(0.85 * lenNoisy)], int(lenClean / lenNoisy), 0)\n",
    "valXn = np.repeat(train_validate_noisy[int(0.85 * lenNoisy):], int(lenClean / lenNoisy), 0)\n",
    "trainYn, valYn = np.ones([trainXn.shape[0], 1]), np.ones([valXn.shape[0], 1])\n",
    "\n",
    "trainX, valX = np.concatenate([trainXc, trainXn], 0), np.concatenate([valXc, valXn], 0)\n",
    "trainY, valY = np.concatenate([trainYc, trainYn], 0), np.concatenate([valYc, valYn], 0)"
   ]
  },
  {
   "cell_type": "code",
   "execution_count": 7,
   "metadata": {},
   "outputs": [],
   "source": [
    "trainIdx = np.arange(len(trainY))\n",
    "np.random.shuffle(trainIdx)\n",
    "trainX = trainX[trainIdx]\n",
    "trainY = trainY[trainIdx]\n",
    "\n",
    "valIdx = np.arange(len(valY))\n",
    "np.random.shuffle(valIdx)\n",
    "valX = valX[valIdx]\n",
    "valY = valY[valIdx]"
   ]
  },
  {
   "cell_type": "markdown",
   "metadata": {},
   "source": [
    "I chose to use an LSTM architecture on the raw signal after trying several others - CNN and Fully connected. LSTMs are generally useful for classification and embedding tasks on time-series."
   ]
  },
  {
   "cell_type": "code",
   "execution_count": 8,
   "metadata": {},
   "outputs": [],
   "source": [
    "model = tf.keras.Sequential([\n",
    "    tf.keras.layers.LSTM(32),\n",
    "    tf.keras.layers.Dense(2, activation='softmax')\n",
    "])"
   ]
  },
  {
   "cell_type": "code",
   "execution_count": 9,
   "metadata": {},
   "outputs": [],
   "source": [
    "model.compile(loss='sparse_categorical_crossentropy',\n",
    "              optimizer=tf.keras.optimizers.Adam(learning_rate=0.00001),\n",
    "              metrics=['sparse_categorical_accuracy'])\n",
    "\n",
    "checkpoint_path = './mydata/ecgV1/' + '{epoch:04d}.ckpt'\n",
    "checkpoint_dir = os.path.dirname(checkpoint_path)\n",
    "cp_callback = tf.keras.callbacks.ModelCheckpoint(filepath=checkpoint_path,\n",
    "                                                 save_weights_only=True,\n",
    "                                                 verbose=1)"
   ]
  },
  {
   "cell_type": "code",
   "execution_count": 10,
   "metadata": {},
   "outputs": [
    {
     "name": "stdout",
     "output_type": "stream",
     "text": [
      "Epoch 1/25\n",
      "734/734 [==============================] - ETA: 0s - loss: 0.6808 - sparse_categorical_accuracy: 0.5998\n",
      "Epoch 1: saving model to ./mydata/ecgV1\\0001.ckpt\n",
      "734/734 [==============================] - 36s 45ms/step - loss: 0.6808 - sparse_categorical_accuracy: 0.5998 - val_loss: 0.6582 - val_sparse_categorical_accuracy: 0.7206\n",
      "Epoch 2/25\n",
      "734/734 [==============================] - ETA: 0s - loss: 0.6589 - sparse_categorical_accuracy: 0.6514\n",
      "Epoch 2: saving model to ./mydata/ecgV1\\0002.ckpt\n",
      "734/734 [==============================] - 33s 45ms/step - loss: 0.6589 - sparse_categorical_accuracy: 0.6514 - val_loss: 0.6171 - val_sparse_categorical_accuracy: 0.7283\n",
      "Epoch 3/25\n",
      "733/734 [============================>.] - ETA: 0s - loss: 0.6310 - sparse_categorical_accuracy: 0.6581\n",
      "Epoch 3: saving model to ./mydata/ecgV1\\0003.ckpt\n",
      "734/734 [==============================] - 33s 45ms/step - loss: 0.6310 - sparse_categorical_accuracy: 0.6581 - val_loss: 0.5747 - val_sparse_categorical_accuracy: 0.7342\n",
      "Epoch 4/25\n",
      "734/734 [==============================] - ETA: 0s - loss: 0.6051 - sparse_categorical_accuracy: 0.6848\n",
      "Epoch 4: saving model to ./mydata/ecgV1\\0004.ckpt\n",
      "734/734 [==============================] - 33s 45ms/step - loss: 0.6051 - sparse_categorical_accuracy: 0.6848 - val_loss: 0.5556 - val_sparse_categorical_accuracy: 0.7403\n",
      "Epoch 5/25\n",
      "734/734 [==============================] - ETA: 0s - loss: 0.5891 - sparse_categorical_accuracy: 0.6980\n",
      "Epoch 5: saving model to ./mydata/ecgV1\\0005.ckpt\n",
      "734/734 [==============================] - 33s 45ms/step - loss: 0.5891 - sparse_categorical_accuracy: 0.6980 - val_loss: 0.5416 - val_sparse_categorical_accuracy: 0.7415\n",
      "Epoch 6/25\n",
      "734/734 [==============================] - ETA: 0s - loss: 0.5802 - sparse_categorical_accuracy: 0.6986\n",
      "Epoch 6: saving model to ./mydata/ecgV1\\0006.ckpt\n",
      "734/734 [==============================] - 33s 45ms/step - loss: 0.5802 - sparse_categorical_accuracy: 0.6986 - val_loss: 0.5313 - val_sparse_categorical_accuracy: 0.7416\n",
      "Epoch 7/25\n",
      "734/734 [==============================] - ETA: 0s - loss: 0.5748 - sparse_categorical_accuracy: 0.6986\n",
      "Epoch 7: saving model to ./mydata/ecgV1\\0007.ckpt\n",
      "734/734 [==============================] - 33s 45ms/step - loss: 0.5748 - sparse_categorical_accuracy: 0.6986 - val_loss: 0.5263 - val_sparse_categorical_accuracy: 0.7412\n",
      "Epoch 8/25\n",
      "734/734 [==============================] - ETA: 0s - loss: 0.5716 - sparse_categorical_accuracy: 0.6981\n",
      "Epoch 8: saving model to ./mydata/ecgV1\\0008.ckpt\n",
      "734/734 [==============================] - 33s 45ms/step - loss: 0.5716 - sparse_categorical_accuracy: 0.6981 - val_loss: 0.5222 - val_sparse_categorical_accuracy: 0.7419\n",
      "Epoch 9/25\n",
      "734/734 [==============================] - ETA: 0s - loss: 0.5693 - sparse_categorical_accuracy: 0.6987\n",
      "Epoch 9: saving model to ./mydata/ecgV1\\0009.ckpt\n",
      "734/734 [==============================] - 33s 45ms/step - loss: 0.5693 - sparse_categorical_accuracy: 0.6987 - val_loss: 0.5198 - val_sparse_categorical_accuracy: 0.7418\n",
      "Epoch 10/25\n",
      "733/734 [============================>.] - ETA: 0s - loss: 0.5678 - sparse_categorical_accuracy: 0.6986\n",
      "Epoch 10: saving model to ./mydata/ecgV1\\0010.ckpt\n",
      "734/734 [==============================] - 33s 45ms/step - loss: 0.5678 - sparse_categorical_accuracy: 0.6986 - val_loss: 0.5179 - val_sparse_categorical_accuracy: 0.7419\n",
      "Epoch 11/25\n",
      "733/734 [============================>.] - ETA: 0s - loss: 0.5667 - sparse_categorical_accuracy: 0.6987\n",
      "Epoch 11: saving model to ./mydata/ecgV1\\0011.ckpt\n",
      "734/734 [==============================] - 34s 46ms/step - loss: 0.5667 - sparse_categorical_accuracy: 0.6987 - val_loss: 0.5169 - val_sparse_categorical_accuracy: 0.7416\n",
      "Epoch 12/25\n",
      "734/734 [==============================] - ETA: 0s - loss: 0.5660 - sparse_categorical_accuracy: 0.6986\n",
      "Epoch 12: saving model to ./mydata/ecgV1\\0012.ckpt\n",
      "734/734 [==============================] - 34s 46ms/step - loss: 0.5660 - sparse_categorical_accuracy: 0.6986 - val_loss: 0.5164 - val_sparse_categorical_accuracy: 0.7410\n",
      "Epoch 13/25\n",
      "734/734 [==============================] - ETA: 0s - loss: 0.5654 - sparse_categorical_accuracy: 0.6987\n",
      "Epoch 13: saving model to ./mydata/ecgV1\\0013.ckpt\n",
      "734/734 [==============================] - 33s 45ms/step - loss: 0.5654 - sparse_categorical_accuracy: 0.6987 - val_loss: 0.5149 - val_sparse_categorical_accuracy: 0.7416\n",
      "Epoch 14/25\n",
      "734/734 [==============================] - ETA: 0s - loss: 0.5648 - sparse_categorical_accuracy: 0.6984\n",
      "Epoch 14: saving model to ./mydata/ecgV1\\0014.ckpt\n",
      "734/734 [==============================] - 33s 45ms/step - loss: 0.5648 - sparse_categorical_accuracy: 0.6984 - val_loss: 0.5139 - val_sparse_categorical_accuracy: 0.7422\n",
      "Epoch 15/25\n",
      "734/734 [==============================] - ETA: 0s - loss: 0.5643 - sparse_categorical_accuracy: 0.6986\n",
      "Epoch 15: saving model to ./mydata/ecgV1\\0015.ckpt\n",
      "734/734 [==============================] - 34s 46ms/step - loss: 0.5643 - sparse_categorical_accuracy: 0.6986 - val_loss: 0.5140 - val_sparse_categorical_accuracy: 0.7418\n",
      "Epoch 16/25\n",
      "733/734 [============================>.] - ETA: 0s - loss: 0.5639 - sparse_categorical_accuracy: 0.6987\n",
      "Epoch 16: saving model to ./mydata/ecgV1\\0016.ckpt\n",
      "734/734 [==============================] - 130s 178ms/step - loss: 0.5639 - sparse_categorical_accuracy: 0.6987 - val_loss: 0.5132 - val_sparse_categorical_accuracy: 0.7422\n",
      "Epoch 17/25\n",
      "734/734 [==============================] - ETA: 0s - loss: 0.5636 - sparse_categorical_accuracy: 0.6989\n",
      "Epoch 17: saving model to ./mydata/ecgV1\\0017.ckpt\n",
      "734/734 [==============================] - 75s 103ms/step - loss: 0.5636 - sparse_categorical_accuracy: 0.6989 - val_loss: 0.5143 - val_sparse_categorical_accuracy: 0.7411\n",
      "Epoch 18/25\n",
      "733/734 [============================>.] - ETA: 0s - loss: 0.5632 - sparse_categorical_accuracy: 0.6989\n",
      "Epoch 18: saving model to ./mydata/ecgV1\\0018.ckpt\n",
      "734/734 [==============================] - 404s 551ms/step - loss: 0.5632 - sparse_categorical_accuracy: 0.6989 - val_loss: 0.5132 - val_sparse_categorical_accuracy: 0.7417\n",
      "Epoch 19/25\n",
      "733/734 [============================>.] - ETA: 0s - loss: 0.5629 - sparse_categorical_accuracy: 0.6991\n",
      "Epoch 19: saving model to ./mydata/ecgV1\\0019.ckpt\n",
      "734/734 [==============================] - 65s 89ms/step - loss: 0.5629 - sparse_categorical_accuracy: 0.6990 - val_loss: 0.5128 - val_sparse_categorical_accuracy: 0.7419\n",
      "Epoch 20/25\n",
      "734/734 [==============================] - ETA: 0s - loss: 0.5628 - sparse_categorical_accuracy: 0.6990\n",
      "Epoch 20: saving model to ./mydata/ecgV1\\0020.ckpt\n",
      "734/734 [==============================] - 33s 45ms/step - loss: 0.5628 - sparse_categorical_accuracy: 0.6990 - val_loss: 0.5124 - val_sparse_categorical_accuracy: 0.7418\n",
      "Epoch 21/25\n",
      "734/734 [==============================] - ETA: 0s - loss: 0.5626 - sparse_categorical_accuracy: 0.6989\n",
      "Epoch 21: saving model to ./mydata/ecgV1\\0021.ckpt\n",
      "734/734 [==============================] - 34s 46ms/step - loss: 0.5626 - sparse_categorical_accuracy: 0.6989 - val_loss: 0.5123 - val_sparse_categorical_accuracy: 0.7416\n",
      "Epoch 22/25\n",
      "733/734 [============================>.] - ETA: 0s - loss: 0.5624 - sparse_categorical_accuracy: 0.6991\n",
      "Epoch 22: saving model to ./mydata/ecgV1\\0022.ckpt\n",
      "734/734 [==============================] - 35s 47ms/step - loss: 0.5624 - sparse_categorical_accuracy: 0.6991 - val_loss: 0.5132 - val_sparse_categorical_accuracy: 0.7409\n",
      "Epoch 23/25\n",
      "734/734 [==============================] - ETA: 0s - loss: 0.5624 - sparse_categorical_accuracy: 0.6989\n",
      "Epoch 23: saving model to ./mydata/ecgV1\\0023.ckpt\n",
      "734/734 [==============================] - 33s 45ms/step - loss: 0.5624 - sparse_categorical_accuracy: 0.6989 - val_loss: 0.5131 - val_sparse_categorical_accuracy: 0.7406\n",
      "Epoch 24/25\n",
      "733/734 [============================>.] - ETA: 0s - loss: 0.5622 - sparse_categorical_accuracy: 0.6992\n",
      "Epoch 24: saving model to ./mydata/ecgV1\\0024.ckpt\n",
      "734/734 [==============================] - 33s 45ms/step - loss: 0.5622 - sparse_categorical_accuracy: 0.6991 - val_loss: 0.5118 - val_sparse_categorical_accuracy: 0.7410\n",
      "Epoch 25/25\n",
      "734/734 [==============================] - ETA: 0s - loss: 0.5620 - sparse_categorical_accuracy: 0.6991\n",
      "Epoch 25: saving model to ./mydata/ecgV1\\0025.ckpt\n",
      "734/734 [==============================] - 33s 45ms/step - loss: 0.5620 - sparse_categorical_accuracy: 0.6991 - val_loss: 0.5124 - val_sparse_categorical_accuracy: 0.7410\n"
     ]
    }
   ],
   "source": [
    "BATCH_SIZE = 1028\n",
    "SHUFFLE_SIZE = BATCH_SIZE * 4\n",
    "epochs = 25\n",
    "history = model.fit(\n",
    "    tf.data.Dataset.from_tensor_slices((trainX[..., np.newaxis], trainY[..., np.newaxis])).shuffle(SHUFFLE_SIZE).batch(BATCH_SIZE),\n",
    "    validation_data=tf.data.Dataset.from_tensor_slices((valX[..., np.newaxis], valY[..., np.newaxis])).batch(BATCH_SIZE),\n",
    "    epochs=epochs,\n",
    "    callbacks=[cp_callback])"
   ]
  },
  {
   "cell_type": "code",
   "execution_count": 11,
   "metadata": {},
   "outputs": [
    {
     "data": {
      "image/png": "[encoded data removed]",
      "text/plain": [
       "<Figure size 640x480 with 1 Axes>"
      ]
     },
     "metadata": {},
     "output_type": "display_data"
    },
    {
     "data": {
      "image/png": "[encoded data removed]",
      "text/plain": [
       "<Figure size 640x480 with 1 Axes>"
      ]
     },
     "metadata": {},
     "output_type": "display_data"
    }
   ],
   "source": [
    "history_dict = history.history\n",
    "history_dict.keys()\n",
    "\n",
    "acc = history_dict['sparse_categorical_accuracy']\n",
    "val_acc = history_dict['val_sparse_categorical_accuracy']\n",
    "loss = history_dict['loss']\n",
    "val_loss = history_dict['val_loss']\n",
    "\n",
    "epochs = range(1, len(acc) + 1)\n",
    "\n",
    "plt.plot(epochs, loss, 'bo', label='Training loss')\n",
    "plt.plot(epochs, val_loss, 'b', label='Validation loss')\n",
    "plt.title('Training and validation loss')\n",
    "plt.xlabel('Epochs')\n",
    "plt.ylabel('Loss')\n",
    "plt.legend()\n",
    "plt.show()\n",
    "\n",
    "plt.plot(epochs, acc, 'bo', label='Training acc')\n",
    "plt.plot(epochs, val_acc, 'b', label='Validation acc')\n",
    "plt.title('Training and validation accuracy')\n",
    "plt.xlabel('Epochs')\n",
    "plt.ylabel('Accuracy')\n",
    "plt.legend(loc='lower right')\n",
    "plt.show()"
   ]
  },
  {
   "cell_type": "markdown",
   "metadata": {},
   "source": [
    "The above results show the training/validation loss/accuracy. The best epoch is the one with the lowest loss value and not the highest accuracy, even though we over-sampled the noisy signals. A good fit is one where out predictions stick as close to 0 or 1 and not near the threshold - this is what cross-entropy provides us."
   ]
  },
  {
   "cell_type": "code",
   "execution_count": 12,
   "metadata": {},
   "outputs": [
    {
     "name": "stdout",
     "output_type": "stream",
     "text": [
      "375/375 [==============================] - 4s 9ms/step\n",
      "31/31 [==============================] - 0s 9ms/step\n"
     ]
    }
   ],
   "source": [
    "pred_clean = np.argmax(model.predict(test_clean), 1)\n",
    "pred_noisy = np.argmax(model.predict(test_noisy), 1)"
   ]
  },
  {
   "cell_type": "code",
   "execution_count": 13,
   "metadata": {},
   "outputs": [
    {
     "data": {
      "text/plain": [
       "array([[0.90436017, 0.09563983],\n",
       "       [0.45121951, 0.54878049]])"
      ]
     },
     "execution_count": 13,
     "metadata": {},
     "output_type": "execute_result"
    }
   ],
   "source": [
    "cm = metrics.confusion_matrix(np.append(np.zeros_like(pred_clean), np.ones_like(pred_noisy)),  np.append(pred_clean, pred_noisy))\n",
    "cm/cm.sum(1, keepdims=True)"
   ]
  },
  {
   "cell_type": "markdown",
   "metadata": {},
   "source": [
    "Finally, we see that 90% of the \"clean\" sub-signals are classified correctly, and 54% of the noisy sub-signals are classified correctly. This measure outperforms the other model."
   ]
  }
 ],
 "metadata": {
  "kernelspec": {
   "display_name": "Python 3",
   "language": "python",
   "name": "python3"
  },
  "language_info": {
   "codemirror_mode": {
    "name": "ipython",
    "version": 3
   },
   "file_extension": ".py",
   "mimetype": "text/x-python",
   "name": "python",
   "nbconvert_exporter": "python",
   "pygments_lexer": "ipython3",
   "version": "3.8.5"
  }
 },
 "nbformat": 4,
 "nbformat_minor": 2
}
